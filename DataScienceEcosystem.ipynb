{
 "cells": [
  {
   "cell_type": "markdown",
   "id": "34d31667-48eb-4a53-af89-e03ab4f7e484",
   "metadata": {
    "tags": []
   },
   "source": [
    "# Data Science Tools and Ecosystem"
   ]
  },
  {
   "cell_type": "markdown",
   "id": "02feea46-1c11-421c-b61d-1709aadac203",
   "metadata": {},
   "source": [
    "In this notebook, Data Science Tools and Ecosystem are summarized."
   ]
  },
  {
   "cell_type": "markdown",
   "id": "00d2018f-f891-4517-80cc-dd9ecf3cb6f2",
   "metadata": {},
   "source": [
    "**Objectives:**\n",
    "- List popular languages for Data Science\n",
    "- List popular libraries for Data Science\n",
    "- List popular open source development environments for Data Science"
   ]
  },
  {
   "cell_type": "markdown",
   "id": "9e792f15-3cfd-4f8b-8867-b5818bc980eb",
   "metadata": {},
   "source": [
    "Some of the popular languages that Data Scientists use are:\n",
    "1. Python\n",
    "2. R\n",
    "3. SQL"
   ]
  },
  {
   "cell_type": "markdown",
   "id": "aa99aae3-3e8a-471e-91a6-7a27b5c27e85",
   "metadata": {},
   "source": [
    "Some of the commonly used libraries used by Data Scientists include:\n",
    "1. NumPy\n",
    "2. Pandas\n",
    "3. Matplotlib"
   ]
  },
  {
   "cell_type": "markdown",
   "id": "8ce4f478-285d-4d16-b539-7fda19c9a78b",
   "metadata": {},
   "source": [
    "|Data Science Tools|\n",
    "------------------\n",
    "|JupyterLab|\n",
    "|Spyder|\n",
    "|VSCode|"
   ]
  },
  {
   "cell_type": "markdown",
   "id": "f81bfb8f-d30a-4824-b50e-9b7a90f02fbe",
   "metadata": {
    "tags": []
   },
   "source": [
    "### Below are a few examples of evaluating arithmetic expressions in Python"
   ]
  },
  {
   "cell_type": "code",
   "execution_count": 6,
   "id": "fd9f92fc-cc00-4562-afe3-10c27e7e7c56",
   "metadata": {
    "tags": []
   },
   "outputs": [
    {
     "data": {
      "text/plain": [
       "17"
      ]
     },
     "execution_count": 6,
     "metadata": {},
     "output_type": "execute_result"
    }
   ],
   "source": [
    "# This a simple arithmetic expression to mutiply then add integers\n",
    "(3*4)+5"
   ]
  },
  {
   "cell_type": "code",
   "execution_count": 7,
   "id": "b234a7b6-09de-4906-9ce3-dba351500908",
   "metadata": {
    "tags": []
   },
   "outputs": [
    {
     "name": "stdout",
     "output_type": "stream",
     "text": [
      "200 minutes in hours equals to 3.3333333333333335\n"
     ]
    }
   ],
   "source": [
    "# This will convert 200 minutes to hours by diving by 60\n",
    "minutes = 200\n",
    "hours = minutes/60\n",
    "print(f'200 minutes in hours equals to {hours}')"
   ]
  },
  {
   "cell_type": "markdown",
   "id": "cbead4bf-ca3e-42f0-86ba-8d5473fba765",
   "metadata": {},
   "source": [
    "## Author\n",
    "Andrej"
   ]
  }
 ],
 "metadata": {
  "kernelspec": {
   "display_name": "Python",
   "language": "python",
   "name": "conda-env-python-py"
  },
  "language_info": {
   "codemirror_mode": {
    "name": "ipython",
    "version": 3
   },
   "file_extension": ".py",
   "mimetype": "text/x-python",
   "name": "python",
   "nbconvert_exporter": "python",
   "pygments_lexer": "ipython3",
   "version": "3.7.12"
  }
 },
 "nbformat": 4,
 "nbformat_minor": 5
}
